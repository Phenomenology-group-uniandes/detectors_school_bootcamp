{
 "cells": [
  {
   "cell_type": "markdown",
   "metadata": {},
   "source": [
    "        6ta Escuela Uniandina de Detectores de Partículas-2023.\n",
    "                    Universidad de los Andes\n",
    "                        Depto de Física\n",
    "\n",
    "    Taller Hands-On #2: Particle Physics Simulation - MG/PYTHIA/DELPHES.\n",
    "        Autores: Cristian Rodríguez PhD(c), Andrés Florez PhD, Carlos Ávila PhD.\n",
    "        \n",
    "                            03/10/2023"
   ]
  },
  {
   "cell_type": "code",
   "execution_count": 1,
   "metadata": {},
   "outputs": [
    {
     "name": "stdout",
     "output_type": "stream",
     "text": [
      "Welcome to JupyROOT 6.22/06\n"
     ]
    }
   ],
   "source": [
    "import hep_pheno_tools"
   ]
  },
  {
   "cell_type": "markdown",
   "metadata": {},
   "source": []
  },
  {
   "cell_type": "code",
   "execution_count": 2,
   "metadata": {},
   "outputs": [
    {
     "name": "stdout",
     "output_type": "stream",
     "text": [
      "z_jets imported with 500 trees!\n",
      "/Madgraph_Simulations/SM_Backgrounds/z_jets/\n",
      "Estamos cargando:80079 eventos\n",
      "Desde 2 archivos de root\n"
     ]
    },
    {
     "data": {
      "application/vnd.jupyter.widget-view+json": {
       "model_id": "fc0f9d5a17e94e4f957aff27e055416d",
       "version_major": 2,
       "version_minor": 0
      },
      "text/plain": [
       "  0%|          | 0/80079 [00:00<?, ?it/s]"
      ]
     },
     "metadata": {},
     "output_type": "display_data"
    }
   ],
   "source": [
    "from tqdm.notebook import tqdm\n",
    "from hep_pheno_tools.delphes_reader.loader import DelphesLoader\n",
    "\n",
    "# leptons are electrons and muons in a unique list\n",
    "from hep_pheno_tools.delphes_reader.classifier import get_good_leptons\n",
    "\n",
    "# jets come in three ways: light jets, b-jets and tau-jets in a dict\n",
    "from hep_pheno_tools.delphes_reader.classifier import get_good_jets\n",
    "\n",
    "from hep_pheno_tools.analysis_tools import Quiet\n",
    "from ROOT import TChain\n",
    "\n",
    "n_files = 2\n",
    "\n",
    "\n",
    "signal = 'z_jets'\n",
    "with Quiet():\n",
    "    reader = DelphesLoader(\n",
    "        signal, \n",
    "        )\n",
    "    root_files=reader.Forest[:n_files] # take the first 5 files\n",
    "    n_events = reader.get_nevents(root_files)\n",
    "    print(f'Estamos cargando:{n_events} eventos')\n",
    "    print(f'Desde {len(root_files)} archivos de root')\n",
    "    tree = TChain(\"Delphes;1\")\n",
    "\n",
    "    for root_file in root_files:\n",
    "        tree.Add(root_file)\n",
    "    m_results = {}\n",
    "    dict_counters = {}\n",
    "    for event in tqdm(tree, total=reader.get_nevents(root_files)):\n",
    "        \n",
    "        dict_counters['total'] = dict_counters.get('total', 0) + 1\n",
    "\n",
    "        # get this particles from the event\n",
    "        leptons = get_good_leptons(event)\n",
    "        jets = get_good_jets(event)['l_jet']\n",
    "        bjets = get_good_jets(event)['b_jet']\n",
    "\n",
    "        # Classify the event\n",
    "        if (len(jets) >= 2) and (len(leptons) == 0) and (len(bjets) == 0):\n",
    "            part_1 = jets[0] # 0 is the leading jet\n",
    "            part_2 = jets[1] # 1 is the subleading jet\n",
    "            case = 'jj'\n",
    "        elif (len(jets) == 0) and (len(leptons) >= 2 ) and (len(bjets) == 0):\n",
    "            part_1 = leptons[0] # 0 is the leading lepton\n",
    "            part_2 = leptons[1] # 1 is the subleading lepton\n",
    "            case = 'll'\n",
    "        elif (len(jets) == 0) and (len(leptons) == 0 ) and (len(bjets) >= 2):\n",
    "            part_1 = bjets[0] # 0 is the leading bjet\n",
    "            part_2 = bjets[1] # 1 is the subleading bjet\n",
    "            case = 'bb'\n",
    "        else :\n",
    "            continue\n",
    "        \n",
    "        # reconstruct the Z boson\n",
    "\n",
    "        reco_z_tlv = part_1.tlv + part_2.tlv\n",
    "        m = reco_z_tlv.M()\n",
    "        # ADD a simple cut on m\n",
    "        if not(60 < m < 120): \n",
    "            continue\n",
    "        cut = 'm_cut'\n",
    "        counters = dict_counters.get(case, {})\n",
    "        counters[cut] = counters.get(cut, 0) + 1\n",
    "        dict_counters[case] = counters\n",
    "\n",
    "        # ADD a cut on deltaR: hint part_1.deltaR(part_2) > 3.0\n",
    "\n",
    "        \n",
    "        # ADD a cut on charge for leptons: hint q1 = part_1.charge\n",
    "\n",
    "        \n",
    "        # save reconstructed mass in a dict with the case as key\n",
    "        distribution = m_results.get(case, [])\n",
    "        distribution.append(m)\n",
    "        m_results[case] = distribution"
   ]
  },
  {
   "cell_type": "markdown",
   "metadata": {},
   "source": []
  },
  {
   "cell_type": "code",
   "execution_count": 3,
   "metadata": {},
   "outputs": [
    {
     "data": {
      "image/png": "[encoded data removed]",
      "text/plain": [
       "<Figure size 1500x500 with 3 Axes>"
      ]
     },
     "metadata": {},
     "output_type": "display_data"
    }
   ],
   "source": [
    "import matplotlib.pyplot as plt\n",
    "import numpy as np\n",
    "# create len(mT_results) subplots and unpack the axes array immediately\n",
    "fig, axs = plt.subplots(1, len(m_results), figsize=(15, 5))\n",
    "for ax, case in zip(axs, m_results):\n",
    "    # Fill the histogram\n",
    "    ax.hist(m_results[case], bins=int(np.sqrt(len(m_results[case]))))\n",
    "    # add a frame with main stats\n",
    "    ax.text(\n",
    "        0.05, 0.95,\n",
    "        f'mean: {np.mean(m_results[case]):.1f}\\nstd: {np.std(m_results[case]):.1f}',\n",
    "        verticalalignment='top', horizontalalignment='left',\n",
    "        transform=ax.transAxes,\n",
    "        bbox={'facecolor': 'white', 'alpha': 0.5, 'pad': 10}\n",
    "    )\n",
    "    ax.set_title(case)\n",
    "    ax.set_xlabel('m [GeV]')\n",
    "    ax.set_ylabel('MCEvents')\n",
    "    # set log scale\n",
    "    ax.set_yscale('log')\n",
    "plt.show()\n"
   ]
  },
  {
   "cell_type": "markdown",
   "metadata": {},
   "source": []
  },
  {
   "cell_type": "code",
   "execution_count": 4,
   "metadata": {},
   "outputs": [
    {
     "data": {
      "text/html": [
       "<div>\n",
       "<style scoped>\n",
       "    .dataframe tbody tr th:only-of-type {\n",
       "        vertical-align: middle;\n",
       "    }\n",
       "\n",
       "    .dataframe tbody tr th {\n",
       "        vertical-align: top;\n",
       "    }\n",
       "\n",
       "    .dataframe thead th {\n",
       "        text-align: right;\n",
       "    }\n",
       "</style>\n",
       "<table border=\"1\" class=\"dataframe\">\n",
       "  <thead>\n",
       "    <tr style=\"text-align: right;\">\n",
       "      <th></th>\n",
       "      <th>jj</th>\n",
       "      <th>ll</th>\n",
       "      <th>bb</th>\n",
       "    </tr>\n",
       "  </thead>\n",
       "  <tbody>\n",
       "    <tr>\n",
       "      <th>efficiency</th>\n",
       "      <td>0.238115</td>\n",
       "      <td>0.013662</td>\n",
       "      <td>0.009478</td>\n",
       "    </tr>\n",
       "    <tr>\n",
       "      <th>uncertainty</th>\n",
       "      <td>0.001505</td>\n",
       "      <td>0.000410</td>\n",
       "      <td>0.000342</td>\n",
       "    </tr>\n",
       "    <tr>\n",
       "      <th>relative uncertainty (%)</th>\n",
       "      <td>0.632109</td>\n",
       "      <td>3.002647</td>\n",
       "      <td>3.612527</td>\n",
       "    </tr>\n",
       "  </tbody>\n",
       "</table>\n",
       "</div>"
      ],
      "text/plain": [
       "                                jj        ll        bb\n",
       "efficiency                0.238115  0.013662  0.009478\n",
       "uncertainty               0.001505  0.000410  0.000342\n",
       "relative uncertainty (%)  0.632109  3.002647  3.612527"
      ]
     },
     "execution_count": 4,
     "metadata": {},
     "output_type": "execute_result"
    }
   ],
   "source": [
    "import pandas as pd\n",
    "efficiency_df = pd.DataFrame(\n",
    "    index=['efficiency', 'uncertainty', 'relative uncertainty (%)']\n",
    "    )\n",
    "for case in m_results:\n",
    "    # get the efficiency\n",
    "    efficiency = len(m_results[case])/n_events\n",
    "    eff_err = np.sqrt(efficiency*(1-efficiency)/n_events)\n",
    "    efficiency_df[case] = [efficiency, eff_err, eff_err*100/efficiency]\n",
    "efficiency_df"
   ]
  },
  {
   "cell_type": "markdown",
   "metadata": {},
   "source": [
    "# Ejercicio\n",
    "- Añade los cortes solicitados y vuelve a imprimir el histograma.\n",
    "- Evalúa la eficiencia absoluta de cada corte."
   ]
  }
 ],
 "metadata": {
  "kernelspec": {
   "display_name": ".venv",
   "language": "python",
   "name": "python3"
  },
  "language_info": {
   "codemirror_mode": {
    "name": "ipython",
    "version": 3
   },
   "file_extension": ".py",
   "mimetype": "text/x-python",
   "name": "python",
   "nbconvert_exporter": "python",
   "pygments_lexer": "ipython3",
   "version": "3.9.4"
  },
  "orig_nbformat": 4
 },
 "nbformat": 4,
 "nbformat_minor": 2
}
